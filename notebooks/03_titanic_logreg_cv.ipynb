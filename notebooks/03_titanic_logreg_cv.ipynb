{
 "cells": [
  {
   "cell_type": "markdown",
   "id": "189f98b0-4382-4a4a-8488-13587b3da5d8",
   "metadata": {},
   "source": [
    "# Titanic Classification Continued\n",
    "## Ernesto Gonzales, MSDA\n",
    "### Learning Goals:\n",
    "### 1. Adding more features from the dataset.\n",
    "### 2. Using cross-validation for more reliable evaluation.\n",
    "### 3. Visualizing a ROC curve to understand threshold trade-offs.\n"
   ]
  },
  {
   "cell_type": "code",
   "execution_count": 2,
   "id": "1e7a53b7-cb6b-4487-b3c3-c4e834e1aed8",
   "metadata": {},
   "outputs": [],
   "source": [
    "# Importing libraries\n",
    "\n",
    "import pandas as pd\n",
    "import numpy as np\n",
    "import seaborn as sns\n",
    "import matplotlib.pyplot as plt\n",
    "\n",
    "from sklearn.model_selection import train_test_split, StratifiedKFold, cross_val_score\n",
    "from sklearn.pipeline import Pipeline\n",
    "from sklearn.preprocessing import StandardScaler, OneHotEncoder\n",
    "from sklearn.compose import ColumnTransformer\n",
    "from sklearn.linear_model import LogisticRegression\n",
    "from sklearn.metrics import (accuracy_score, precision_score, recall_score,\n",
    "f1_score, roc_auc_score, confusion_matrix, RocCurveDisplay)\n"
   ]
  },
  {
   "cell_type": "code",
   "execution_count": 3,
   "id": "27209e69-5f98-42cf-a33e-b85ade75192e",
   "metadata": {},
   "outputs": [
    {
     "name": "stdout",
     "output_type": "stream",
     "text": [
      "X shape: (712, 8)  | y shape: (712,)\n"
     ]
    },
    {
     "data": {
      "text/html": [
       "<div>\n",
       "<style scoped>\n",
       "    .dataframe tbody tr th:only-of-type {\n",
       "        vertical-align: middle;\n",
       "    }\n",
       "\n",
       "    .dataframe tbody tr th {\n",
       "        vertical-align: top;\n",
       "    }\n",
       "\n",
       "    .dataframe thead th {\n",
       "        text-align: right;\n",
       "    }\n",
       "</style>\n",
       "<table border=\"1\" class=\"dataframe\">\n",
       "  <thead>\n",
       "    <tr style=\"text-align: right;\">\n",
       "      <th></th>\n",
       "      <th>sex</th>\n",
       "      <th>age</th>\n",
       "      <th>fare</th>\n",
       "      <th>class</th>\n",
       "      <th>embarked</th>\n",
       "      <th>sibsp</th>\n",
       "      <th>parch</th>\n",
       "      <th>alone</th>\n",
       "    </tr>\n",
       "  </thead>\n",
       "  <tbody>\n",
       "    <tr>\n",
       "      <th>0</th>\n",
       "      <td>male</td>\n",
       "      <td>22.0</td>\n",
       "      <td>7.2500</td>\n",
       "      <td>Third</td>\n",
       "      <td>S</td>\n",
       "      <td>1</td>\n",
       "      <td>0</td>\n",
       "      <td>False</td>\n",
       "    </tr>\n",
       "    <tr>\n",
       "      <th>1</th>\n",
       "      <td>female</td>\n",
       "      <td>38.0</td>\n",
       "      <td>71.2833</td>\n",
       "      <td>First</td>\n",
       "      <td>C</td>\n",
       "      <td>1</td>\n",
       "      <td>0</td>\n",
       "      <td>False</td>\n",
       "    </tr>\n",
       "    <tr>\n",
       "      <th>2</th>\n",
       "      <td>female</td>\n",
       "      <td>26.0</td>\n",
       "      <td>7.9250</td>\n",
       "      <td>Third</td>\n",
       "      <td>S</td>\n",
       "      <td>0</td>\n",
       "      <td>0</td>\n",
       "      <td>True</td>\n",
       "    </tr>\n",
       "    <tr>\n",
       "      <th>3</th>\n",
       "      <td>female</td>\n",
       "      <td>35.0</td>\n",
       "      <td>53.1000</td>\n",
       "      <td>First</td>\n",
       "      <td>S</td>\n",
       "      <td>1</td>\n",
       "      <td>0</td>\n",
       "      <td>False</td>\n",
       "    </tr>\n",
       "    <tr>\n",
       "      <th>4</th>\n",
       "      <td>male</td>\n",
       "      <td>35.0</td>\n",
       "      <td>8.0500</td>\n",
       "      <td>Third</td>\n",
       "      <td>S</td>\n",
       "      <td>0</td>\n",
       "      <td>0</td>\n",
       "      <td>True</td>\n",
       "    </tr>\n",
       "  </tbody>\n",
       "</table>\n",
       "</div>"
      ],
      "text/plain": [
       "      sex   age     fare  class embarked  sibsp  parch  alone\n",
       "0    male  22.0   7.2500  Third        S      1      0  False\n",
       "1  female  38.0  71.2833  First        C      1      0  False\n",
       "2  female  26.0   7.9250  Third        S      0      0   True\n",
       "3  female  35.0  53.1000  First        S      1      0  False\n",
       "4    male  35.0   8.0500  Third        S      0      0   True"
      ]
     },
     "metadata": {},
     "output_type": "display_data"
    },
    {
     "data": {
      "text/plain": [
       "0    0\n",
       "1    1\n",
       "2    1\n",
       "3    1\n",
       "4    0\n",
       "Name: survived, dtype: int64"
      ]
     },
     "metadata": {},
     "output_type": "display_data"
    }
   ],
   "source": [
    "# Loading Titanic Dataset (seaborn)\n",
    "df = sns.load_dataset(\"titanic\")\n",
    "\n",
    "# Adding features\n",
    "features = [\"sex\", \"age\", \"fare\", \"class\", \"embarked\", \"sibsp\", \"parch\", \"alone\"]\n",
    "X = df[features].copy()\n",
    "y = df[\"survived\"].copy()\n",
    "\n",
    "# Dropping rows with NA in features\n",
    "X = X.dropna()\n",
    "y = y.loc[X.index]\n",
    "\n",
    "# Quick data check\n",
    "\n",
    "print(\"X shape:\", X.shape, \" | y shape:\", y.shape)\n",
    "display(X.head())\n",
    "display(y.head())\n"
   ]
  },
  {
   "cell_type": "code",
   "execution_count": 4,
   "id": "be309f84-5287-4dae-9f07-b6a8d64cbb7f",
   "metadata": {},
   "outputs": [],
   "source": [
    "# Separate numeric and categorical features\n",
    "\n",
    "num_features = [\"age\", \"fare\", \"sibsp\", \"parch\"]\n",
    "cat_features = [\"sex\", \"class\", \"embarked\", \"alone\"]\n",
    "\n",
    "# Transformers for each type\n",
    "\n",
    "num_transformer = Pipeline(steps=[(\"scaler\", StandardScaler())])\n",
    "cat_transformer = Pipeline(steps=[(\"encoder\", OneHotEncoder(handle_unknown=\"ignore\"))])\n",
    "\n",
    "# Combining preprocessing\n",
    "\n",
    "preprocessor = ColumnTransformer(transformers=[(\"num\", num_transformer, num_features), (\"cat\", cat_transformer, cat_features)])\n",
    "\n",
    "# Full pipeline preprocessing + Logistic Regression\n",
    "clf = Pipeline(steps=[(\"preprocesssor\", preprocessor),\n",
    "                      (\"model\", LogisticRegression(max_iter=1000, class_weight=\"balanced\"))])"
   ]
  },
  {
   "cell_type": "code",
   "execution_count": 5,
   "id": "848e14a4-cdf9-4fe8-95b8-9ff3ab7cd549",
   "metadata": {},
   "outputs": [
    {
     "name": "stdout",
     "output_type": "stream",
     "text": [
      "Fold scores (Accuracy): [0.8322 0.8112 0.7746 0.7887 0.7817]\n",
      "Fold scores (F1):  [0.7931 0.7477 0.7333 0.7458 0.7597]\n",
      "Fold scores (ROC-AUC):  [0.8876 0.8541 0.8169 0.8213 0.8814]\n"
     ]
    },
    {
     "data": {
      "text/html": [
       "<div>\n",
       "<style scoped>\n",
       "    .dataframe tbody tr th:only-of-type {\n",
       "        vertical-align: middle;\n",
       "    }\n",
       "\n",
       "    .dataframe tbody tr th {\n",
       "        vertical-align: top;\n",
       "    }\n",
       "\n",
       "    .dataframe thead th {\n",
       "        text-align: right;\n",
       "    }\n",
       "</style>\n",
       "<table border=\"1\" class=\"dataframe\">\n",
       "  <thead>\n",
       "    <tr style=\"text-align: right;\">\n",
       "      <th></th>\n",
       "      <th>Metric</th>\n",
       "      <th>Mean</th>\n",
       "      <th>Std</th>\n",
       "    </tr>\n",
       "  </thead>\n",
       "  <tbody>\n",
       "    <tr>\n",
       "      <th>0</th>\n",
       "      <td>Accuracy</td>\n",
       "      <td>0.797685</td>\n",
       "      <td>0.021157</td>\n",
       "    </tr>\n",
       "    <tr>\n",
       "      <th>1</th>\n",
       "      <td>F1</td>\n",
       "      <td>0.755911</td>\n",
       "      <td>0.020388</td>\n",
       "    </tr>\n",
       "    <tr>\n",
       "      <th>2</th>\n",
       "      <td>ROC-AUC</td>\n",
       "      <td>0.852246</td>\n",
       "      <td>0.029362</td>\n",
       "    </tr>\n",
       "  </tbody>\n",
       "</table>\n",
       "</div>"
      ],
      "text/plain": [
       "     Metric      Mean       Std\n",
       "0  Accuracy  0.797685  0.021157\n",
       "1        F1  0.755911  0.020388\n",
       "2   ROC-AUC  0.852246  0.029362"
      ]
     },
     "execution_count": 5,
     "metadata": {},
     "output_type": "execute_result"
    }
   ],
   "source": [
    "# Cross-validation\n",
    "\n",
    "cv = StratifiedKFold(n_splits=5, shuffle=True, random_state=42)\n",
    "\n",
    "# Accuracy across folds\n",
    "acc_scores = cross_val_score(clf, X, y, cv=cv, scoring=\"accuracy\")\n",
    "\n",
    "# F1 across folds - harmonic mean\n",
    "f1_scores = cross_val_score(clf, X, y, cv=cv, scoring=\"f1\")\n",
    "\n",
    "# ROC-AUC across folds\n",
    "\n",
    "roc_scores = cross_val_score(clf, X,y, cv=cv, scoring=\"roc_auc\")\n",
    "\n",
    "cv_results = pd.DataFrame({\n",
    "    \"Metric\": [\"Accuracy\", \"F1\", \"ROC-AUC\"],\n",
    "    \"Mean\": [acc_scores.mean(), f1_scores.mean(), roc_scores.mean()],\n",
    "    \"Std\": [acc_scores.std(), f1_scores.std(), roc_scores.std()]})\n",
    "\n",
    "print(\"Fold scores (Accuracy):\", np.round(acc_scores, 4))\n",
    "print(\"Fold scores (F1): \", np.round(f1_scores,4))\n",
    "print(\"Fold scores (ROC-AUC): \" , np.round(roc_scores, 4))\n",
    "\n",
    "cv_results\n",
    "\n"
   ]
  },
  {
   "cell_type": "code",
   "execution_count": 6,
   "id": "caa12125-1e20-41f8-a466-03a32d4afcf6",
   "metadata": {},
   "outputs": [
    {
     "data": {
      "image/png": "[encoded data removed]",
      "text/plain": [
       "<Figure size 600x500 with 1 Axes>"
      ]
     },
     "metadata": {},
     "output_type": "display_data"
    }
   ],
   "source": [
    "# Ploting ROC Curve\n",
    "\n",
    "# Creating splits\n",
    "X_train, X_test, y_train, y_test = train_test_split(X, y, test_size=0.2, stratify=y, random_state=42)\n",
    "\n",
    "# Fit pipeline on training set\n",
    "clf.fit(X_train, y_train)\n",
    "\n",
    "# Ploting and saving ROC curve\n",
    "import os\n",
    "os.makedirs(\"../docs\", exist_ok=True)\n",
    "\n",
    "fig, ax = plt.subplots(figsize=(6,5))\n",
    "RocCurveDisplay.from_estimator(clf, X_test, y_test, ax=ax)\n",
    "ax.set_title(\"ROC Curve - Titanic Logistic Regression\")\n",
    "\n",
    "fig.savefig(\"../docs/titanic_roc_curve.png\", dpi=150, bbox_inches=\"tight\")\n",
    "plt.show()\n"
   ]
  },
  {
   "cell_type": "code",
   "execution_count": 7,
   "id": "99c98316-ad87-46c5-ad7d-183b2d387cbc",
   "metadata": {},
   "outputs": [
    {
     "name": "stdout",
     "output_type": "stream",
     "text": [
      "Saved CV results: ../docs/titanic_cv_results.md\n"
     ]
    }
   ],
   "source": [
    "# Saving CV results\n",
    "\n",
    "cv_md_path = \"../docs/titanic_cv_results.md\"\n",
    "\n",
    "with open(cv_md_path, \"w\", encoding=\"utf-8\") as f:\n",
    "    f.write(\"# Titanic Logistic Regression - Cross-validation Results\\n\\n\")\n",
    "    f.write(cv_results.to_markdown(index=False, floatfmt=\".4f\"))\n",
    "print(f\"Saved CV results: {cv_md_path}\")"
   ]
  },
  {
   "cell_type": "code",
   "execution_count": 8,
   "id": "ad143d63-446f-4e53-977e-a0770007b52f",
   "metadata": {},
   "outputs": [
    {
     "name": "stdout",
     "output_type": "stream",
     "text": [
      "Wrote summary: ../docs/README.md\n"
     ]
    }
   ],
   "source": [
    "# Adding a README\n",
    "summary_path = \"../docs/README.md\"\n",
    "summary = \"\"\"# Day 3 - Titanic Logistic Regression (CV + ROC)\n",
    "\n",
    "Artifacts:\n",
    "- 'titanic_cv_results.md' - 5-fold CV (Accuracy, F1, ROC-AUC)\n",
    "- 'titanic_roc_curve.png' - ROC curve on holdout test\n",
    "\n",
    "Notes:\n",
    "- Used 'class_weight=\"balanced\"' for class imbalance.\n",
    "- Cross-validation with 'StratifiedKfolds(n_splits=5)'.\n",
    "- Features: sex, age, fare, class, embarked, sibsp, parch, alone.\n",
    "\"\"\"\n",
    "with open(summary_path, \"w\", encoding=\"utf-8\") as f:\n",
    "    f.write(summary)\n",
    "print(f\"Wrote summary: {summary_path}\")"
   ]
  },
  {
   "cell_type": "code",
   "execution_count": null,
   "id": "312855e6-6f0d-4a1d-94c4-2dba9a782825",
   "metadata": {},
   "outputs": [],
   "source": []
  }
 ],
 "metadata": {
  "kernelspec": {
   "display_name": "Python (ml_journey_env)",
   "language": "python",
   "name": "ml_journey_env"
  },
  "language_info": {
   "codemirror_mode": {
    "name": "ipython",
    "version": 3
   },
   "file_extension": ".py",
   "mimetype": "text/x-python",
   "name": "python",
   "nbconvert_exporter": "python",
   "pygments_lexer": "ipython3",
   "version": "3.10.18"
  }
 },
 "nbformat": 4,
 "nbformat_minor": 5
}
