{
 "cells": [
  {
   "cell_type": "markdown",
   "id": "57445177-7178-4f03-8418-b8e848408f95",
   "metadata": {},
   "source": [
    "# Day 4 - Feature Engineering + Random Forest Baseline\n",
    "## Ernesto Gonzales, MSDA\n"
   ]
  },
  {
   "cell_type": "markdown",
   "id": "74832c04-103d-4ef5-b8ed-7eaab65fe0e6",
   "metadata": {},
   "source": [
    "Goal: \n",
    "Creating new features for tree models\n"
   ]
  },
  {
   "cell_type": "code",
   "execution_count": 1,
   "id": "3a1f3927-b8c2-421d-a2f1-77757f4e1a3e",
   "metadata": {},
   "outputs": [],
   "source": [
    "# Importing Libraries\n",
    "\n",
    "import pandas as pd\n",
    "import numpy as np\n",
    "import seaborn as sns\n",
    "import matplotlib.pyplot as plt\n",
    "\n",
    "from sklearn.model_selection import train_test_split, StratifiedKFold, cross_val_score\n",
    "from sklearn.pipeline import Pipeline\n",
    "from sklearn.preprocessing import OneHotEncoder, StandardScaler\n",
    "from sklearn.compose import ColumnTransformer\n",
    "from sklearn.metrics import (accuracy_score, f1_score, roc_auc_score,\n",
    "RocCurveDisplay, confusion_matrix)\n",
    "from sklearn.linear_model import LogisticRegression\n",
    "from sklearn.tree import DecisionTreeClassifier\n",
    "from sklearn.ensemble import RandomForestClassifier"
   ]
  },
  {
   "cell_type": "code",
   "execution_count": 2,
   "id": "50439724-367a-4330-a34e-735f861c1165",
   "metadata": {},
   "outputs": [],
   "source": [
    "# Loading data from Seaborn\n",
    "\n",
    "df = sns.load_dataset(\"titanic\").copy()"
   ]
  },
  {
   "cell_type": "code",
   "execution_count": 4,
   "id": "d46966a2-8687-41aa-80b0-8a81ecfea9e7",
   "metadata": {},
   "outputs": [],
   "source": [
    "# Basic feature selection\n",
    "\n",
    "base_features = [\"sex\", \"age\", \"fare\", \"class\", \"embarked\", \"sibsp\", \"parch\", \"alone\"]\n",
    "df_base = df[base_features + [\"survived\"]].copy()"
   ]
  },
  {
   "cell_type": "code",
   "execution_count": 5,
   "id": "e322ce19-26ee-406d-84db-b8b970f9afdc",
   "metadata": {},
   "outputs": [],
   "source": [
    "# Feature Engineering\n",
    "# family_size: total people with ticket in a family group (sib/sp + parch + self)\n",
    "df_base[\"family_size\"] = (df_base[\"sibsp\"].fillna(0) + df_base[\"parch\"].fillna(0) + 1).astype(int)"
   ]
  },
  {
   "cell_type": "code",
   "execution_count": 6,
   "id": "2e5ec8c7-cbb1-4c27-8a8f-8e73c5b250c7",
   "metadata": {},
   "outputs": [],
   "source": [
    "# is_child: creating an age cutoff (<16) to create category\n",
    "\n",
    "df_base[\"is_child\"] = (df_base[\"age\"] < 16).astype(\"float\")"
   ]
  },
  {
   "cell_type": "code",
   "execution_count": 7,
   "id": "b0112354-5ce0-44c4-9f66-5a5339801094",
   "metadata": {},
   "outputs": [],
   "source": [
    "# fare_per_person: dividing fare by family_size (clipping at 1)\n",
    "\n",
    "df_base[\"fare_per_person\"] = df_base[\"fare\"] / df_base[\"family_size\"].clip(lower=1)"
   ]
  },
  {
   "cell_type": "code",
   "execution_count": 9,
   "id": "a9a2d7c3-fde9-460e-9a6f-c8a7542126b9",
   "metadata": {},
   "outputs": [],
   "source": [
    "# Feature Selection\n",
    "\n",
    "features = [\"sex\", \"class\", \"embarked\", \"alone\", \"age\", \"fare\", \"sibsp\",\n",
    "            \"parch\", \"family_size\", \"is_child\", \"fare_per_person\"]\n",
    "\n",
    "X = df_base[features].copy()\n",
    "y = df_base[\"survived\"].copy()\n"
   ]
  },
  {
   "cell_type": "code",
   "execution_count": 10,
   "id": "98aae947-a935-4d37-acf7-1bed768f78ec",
   "metadata": {},
   "outputs": [
    {
     "name": "stdout",
     "output_type": "stream",
     "text": [
      "X shape: (712, 11) | y shape: (712,)\n"
     ]
    },
    {
     "data": {
      "text/html": [
       "<div>\n",
       "<style scoped>\n",
       "    .dataframe tbody tr th:only-of-type {\n",
       "        vertical-align: middle;\n",
       "    }\n",
       "\n",
       "    .dataframe tbody tr th {\n",
       "        vertical-align: top;\n",
       "    }\n",
       "\n",
       "    .dataframe thead th {\n",
       "        text-align: right;\n",
       "    }\n",
       "</style>\n",
       "<table border=\"1\" class=\"dataframe\">\n",
       "  <thead>\n",
       "    <tr style=\"text-align: right;\">\n",
       "      <th></th>\n",
       "      <th>sex</th>\n",
       "      <th>class</th>\n",
       "      <th>embarked</th>\n",
       "      <th>alone</th>\n",
       "      <th>age</th>\n",
       "      <th>fare</th>\n",
       "      <th>sibsp</th>\n",
       "      <th>parch</th>\n",
       "      <th>family_size</th>\n",
       "      <th>is_child</th>\n",
       "      <th>fare_per_person</th>\n",
       "    </tr>\n",
       "  </thead>\n",
       "  <tbody>\n",
       "    <tr>\n",
       "      <th>0</th>\n",
       "      <td>male</td>\n",
       "      <td>Third</td>\n",
       "      <td>S</td>\n",
       "      <td>False</td>\n",
       "      <td>22.0</td>\n",
       "      <td>7.2500</td>\n",
       "      <td>1</td>\n",
       "      <td>0</td>\n",
       "      <td>2</td>\n",
       "      <td>0.0</td>\n",
       "      <td>3.62500</td>\n",
       "    </tr>\n",
       "    <tr>\n",
       "      <th>1</th>\n",
       "      <td>female</td>\n",
       "      <td>First</td>\n",
       "      <td>C</td>\n",
       "      <td>False</td>\n",
       "      <td>38.0</td>\n",
       "      <td>71.2833</td>\n",
       "      <td>1</td>\n",
       "      <td>0</td>\n",
       "      <td>2</td>\n",
       "      <td>0.0</td>\n",
       "      <td>35.64165</td>\n",
       "    </tr>\n",
       "    <tr>\n",
       "      <th>2</th>\n",
       "      <td>female</td>\n",
       "      <td>Third</td>\n",
       "      <td>S</td>\n",
       "      <td>True</td>\n",
       "      <td>26.0</td>\n",
       "      <td>7.9250</td>\n",
       "      <td>0</td>\n",
       "      <td>0</td>\n",
       "      <td>1</td>\n",
       "      <td>0.0</td>\n",
       "      <td>7.92500</td>\n",
       "    </tr>\n",
       "    <tr>\n",
       "      <th>3</th>\n",
       "      <td>female</td>\n",
       "      <td>First</td>\n",
       "      <td>S</td>\n",
       "      <td>False</td>\n",
       "      <td>35.0</td>\n",
       "      <td>53.1000</td>\n",
       "      <td>1</td>\n",
       "      <td>0</td>\n",
       "      <td>2</td>\n",
       "      <td>0.0</td>\n",
       "      <td>26.55000</td>\n",
       "    </tr>\n",
       "    <tr>\n",
       "      <th>4</th>\n",
       "      <td>male</td>\n",
       "      <td>Third</td>\n",
       "      <td>S</td>\n",
       "      <td>True</td>\n",
       "      <td>35.0</td>\n",
       "      <td>8.0500</td>\n",
       "      <td>0</td>\n",
       "      <td>0</td>\n",
       "      <td>1</td>\n",
       "      <td>0.0</td>\n",
       "      <td>8.05000</td>\n",
       "    </tr>\n",
       "  </tbody>\n",
       "</table>\n",
       "</div>"
      ],
      "text/plain": [
       "      sex  class embarked  alone   age     fare  sibsp  parch  family_size  is_child  fare_per_person\n",
       "0    male  Third        S  False  22.0   7.2500      1      0            2       0.0          3.62500\n",
       "1  female  First        C  False  38.0  71.2833      1      0            2       0.0         35.64165\n",
       "2  female  Third        S   True  26.0   7.9250      0      0            1       0.0          7.92500\n",
       "3  female  First        S  False  35.0  53.1000      1      0            2       0.0         26.55000\n",
       "4    male  Third        S   True  35.0   8.0500      0      0            1       0.0          8.05000"
      ]
     },
     "metadata": {},
     "output_type": "display_data"
    }
   ],
   "source": [
    "# Addressing missing values \n",
    "\n",
    "X = X.dropna()\n",
    "y = y.loc[X.index]\n",
    "\n",
    "print(\"X shape:\", X.shape, \"| y shape:\", y.shape) # printing shapes\n",
    "\n",
    "display(X.head())"
   ]
  },
  {
   "cell_type": "code",
   "execution_count": 18,
   "id": "323a8ecd-2880-49bd-a523-0647bc65c92d",
   "metadata": {},
   "outputs": [],
   "source": [
    "# Preprocessing\n",
    "num_features = [\"age\", \"fare\", \"sibsp\", \"parch\", \"family_size\", \"is_child\", \"fare_per_person\"]\n",
    "cat_features = [\"sex\", \"class\", \"embarked\", \"alone\"]\n",
    "\n",
    "# Transforming and Scaling features\n",
    "\n",
    "num_transformer = Pipeline(steps=[(\"scaler\", StandardScaler())])\n",
    "\n",
    "cat_transformer = Pipeline(steps=[(\"encoder\", OneHotEncoder(handle_unknown=\"ignore\"))])\n",
    "\n",
    "# Column Transformer\n",
    "\n",
    "preprocessor = ColumnTransformer(transformers=[(\"num\", num_transformer, num_features),\n",
    "                                               (\"cat\", cat_transformer, cat_features)])\n",
    "\n"
   ]
  },
  {
   "cell_type": "code",
   "execution_count": 20,
   "id": "107bf2b1-bd34-43b6-be01-e9dcb9bcfeae",
   "metadata": {},
   "outputs": [],
   "source": [
    "# Pipelines\n",
    "\n",
    "# Logistic Regression\n",
    "log_reg = Pipeline(steps=[(\"preprocessor\", preprocessor),\n",
    "                          (\"model\", LogisticRegression(max_iter=1000, class_weight=\"balanced\"))])\n",
    "# Decision Tree\n",
    "dec_tree = Pipeline(steps=[(\"preprocessor\", preprocessor), (\"model\", DecisionTreeClassifier(max_depth=5, random_state=42, class_weight=\"balanced\"))])\n",
    "\n",
    "# Random Forest\n",
    "rand_forest = Pipeline(steps=[(\"preprocessor\", preprocessor), (\"model\", RandomForestClassifier(n_estimators=200, max_depth=7,\n",
    "                                                                                               random_state=42, class_weight=\"balanced\"))])\n"
   ]
  },
  {
   "cell_type": "code",
   "execution_count": 21,
   "id": "93cd0d77-619b-4115-9b55-9f69ec580c40",
   "metadata": {},
   "outputs": [
    {
     "data": {
      "text/html": [
       "<div>\n",
       "<style scoped>\n",
       "    .dataframe tbody tr th:only-of-type {\n",
       "        vertical-align: middle;\n",
       "    }\n",
       "\n",
       "    .dataframe tbody tr th {\n",
       "        vertical-align: top;\n",
       "    }\n",
       "\n",
       "    .dataframe thead th {\n",
       "        text-align: right;\n",
       "    }\n",
       "</style>\n",
       "<table border=\"1\" class=\"dataframe\">\n",
       "  <thead>\n",
       "    <tr style=\"text-align: right;\">\n",
       "      <th></th>\n",
       "      <th>Model</th>\n",
       "      <th>Accuracy (mean)</th>\n",
       "      <th>Accuracy (std)</th>\n",
       "      <th>F1 (mean)</th>\n",
       "      <th>F1 (std)</th>\n",
       "      <th>ROC-AUC (mean)</th>\n",
       "      <th>ROC-AUC (std)</th>\n",
       "    </tr>\n",
       "  </thead>\n",
       "  <tbody>\n",
       "    <tr>\n",
       "      <th>0</th>\n",
       "      <td>Logistic Regression</td>\n",
       "      <td>0.790633</td>\n",
       "      <td>0.035363</td>\n",
       "      <td>0.747228</td>\n",
       "      <td>0.037059</td>\n",
       "      <td>0.852805</td>\n",
       "      <td>0.038422</td>\n",
       "    </tr>\n",
       "    <tr>\n",
       "      <th>1</th>\n",
       "      <td>Decision Tree</td>\n",
       "      <td>0.807574</td>\n",
       "      <td>0.030420</td>\n",
       "      <td>0.760558</td>\n",
       "      <td>0.041539</td>\n",
       "      <td>0.840918</td>\n",
       "      <td>0.037156</td>\n",
       "    </tr>\n",
       "    <tr>\n",
       "      <th>2</th>\n",
       "      <td>Random Forest</td>\n",
       "      <td>0.824397</td>\n",
       "      <td>0.036812</td>\n",
       "      <td>0.776404</td>\n",
       "      <td>0.049215</td>\n",
       "      <td>0.872685</td>\n",
       "      <td>0.046990</td>\n",
       "    </tr>\n",
       "  </tbody>\n",
       "</table>\n",
       "</div>"
      ],
      "text/plain": [
       "                 Model  Accuracy (mean)  Accuracy (std)  F1 (mean)  F1 (std)  ROC-AUC (mean)  ROC-AUC (std)\n",
       "0  Logistic Regression         0.790633        0.035363   0.747228  0.037059        0.852805       0.038422\n",
       "1        Decision Tree         0.807574        0.030420   0.760558  0.041539        0.840918       0.037156\n",
       "2        Random Forest         0.824397        0.036812   0.776404  0.049215        0.872685       0.046990"
      ]
     },
     "execution_count": 21,
     "metadata": {},
     "output_type": "execute_result"
    }
   ],
   "source": [
    "# Cross-validation \n",
    "\n",
    "# Stratified 5-fold CV\n",
    "\n",
    "cv = StratifiedKFold(n_splits=5, shuffle=True, random_state=42)\n",
    "\n",
    "#  Creating a model dictionary\n",
    "models = {\"Logistic Regression\": log_reg,\n",
    "          \"Decision Tree\": dec_tree,\n",
    "          \"Random Forest\": rand_forest}\n",
    "\n",
    "results = []\n",
    "\n",
    "for name, model in models.items():\n",
    "    acc = cross_val_score(model, X, y, cv=cv, scoring=\"accuracy\")\n",
    "    f1 = cross_val_score(model, X, y, cv=cv, scoring=\"f1\")\n",
    "    roc = cross_val_score(model, X, y, cv=cv, scoring=\"roc_auc\")\n",
    "\n",
    "    results.append({\n",
    "        \"Model\": name,\n",
    "        \"Accuracy (mean)\": acc.mean(),\n",
    "        \"Accuracy (std)\": acc.std(),\n",
    "        \"F1 (mean)\": f1.mean(),\n",
    "        \"F1 (std)\": f1.std(),\n",
    "        \"ROC-AUC (mean)\": roc.mean(),\n",
    "        \"ROC-AUC (std)\": roc.std()}) # appending CV scores on each model\n",
    "\n",
    "cv_results = pd.DataFrame(results) # creating a table with the results list\n",
    "cv_results"
   ]
  },
  {
   "cell_type": "code",
   "execution_count": 31,
   "id": "f144e005-dec0-4301-8325-046b181aeb85",
   "metadata": {},
   "outputs": [
    {
     "data": {
      "image/png": "[encoded data removed]",
      "text/plain": [
       "<Figure size 700x600 with 1 Axes>"
      ]
     },
     "metadata": {},
     "output_type": "display_data"
    }
   ],
   "source": [
    "# ROC Curves for all 3 models\n",
    "\n",
    "# Train test split data\n",
    "\n",
    "X_train, X_test, y_train, y_test = train_test_split(X, y, test_size=0.2, stratify=y, random_state=42)\n",
    "\n",
    "# Fitting each model pipeline with the training set\n",
    "\n",
    "log_reg.fit(X_train, y_train)\n",
    "dec_tree.fit(X_train, y_train)\n",
    "rand_forest.fit(X_train, y_train)\n",
    "\n",
    "# Plotting one figure with all 3 ROC curves\n",
    "\n",
    "fig, ax = plt.subplots(figsize=(7,6))\n",
    "\n",
    "RocCurveDisplay.from_estimator(log_reg, X_test, y_test, ax=ax, name=\"Logistic Regression\")\n",
    "RocCurveDisplay.from_estimator(dec_tree, X_test, y_test, ax=ax, name=\"Decision Tree\")\n",
    "RocCurveDisplay.from_estimator(rand_forest, X_test, y_test, ax=ax, name=\"Random Forest\")\n",
    "\n",
    "plt.plot([0,1], [0,1], linestyle=\"--\", linewidth=1, label=\"Chance\")\n",
    "plt.title(\"ROC Curves - Logistic vs Tree vs Random Forest (Titanic)\")\n",
    "plt.xlabel(\"False Positive Rate\")\n",
    "plt.ylabel(\"True Positive Rate\")\n",
    "plt.legend(loc=\"lower right\")\n",
    "plt.tight_layout()\n",
    "\n",
    "# Saving plot\n",
    "fig.savefig(\"../docs/titanic_day4_roc_overlay.png\", dpi=150, bbox_inches=\"tight\")\n",
    "\n",
    "plt.show()"
   ]
  },
  {
   "cell_type": "code",
   "execution_count": null,
   "id": "c2e53787-7983-45ef-b1a0-239be08118f7",
   "metadata": {},
   "outputs": [],
   "source": []
  }
 ],
 "metadata": {
  "kernelspec": {
   "display_name": "Python (ml_env)",
   "language": "python",
   "name": "ml_env"
  },
  "language_info": {
   "codemirror_mode": {
    "name": "ipython",
    "version": 3
   },
   "file_extension": ".py",
   "mimetype": "text/x-python",
   "name": "python",
   "nbconvert_exporter": "python",
   "pygments_lexer": "ipython3",
   "version": "3.13.7"
  }
 },
 "nbformat": 4,
 "nbformat_minor": 5
}
